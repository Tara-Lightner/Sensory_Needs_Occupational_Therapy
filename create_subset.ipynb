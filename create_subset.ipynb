{
 "cells": [
  {
   "cell_type": "code",
   "execution_count": 1,
   "id": "122bb902",
   "metadata": {},
   "outputs": [],
   "source": [
    "import pandas as pd"
   ]
  },
  {
   "cell_type": "code",
   "execution_count": 2,
   "id": "a3e78422",
   "metadata": {},
   "outputs": [],
   "source": [
    "df = pd.read_csv('data/2019-2020 NSCH_Topical_CAHMI_DRC_1920.csv')"
   ]
  },
  {
   "cell_type": "code",
   "execution_count": 3,
   "id": "c637d201",
   "metadata": {},
   "outputs": [],
   "source": [
    "small = df.sample(frac=.15)"
   ]
  },
  {
   "cell_type": "code",
   "execution_count": 7,
   "id": "c5c15fb5",
   "metadata": {},
   "outputs": [],
   "source": [
    "small.to_csv('data/subset.csv', index=False)"
   ]
  },
  {
   "cell_type": "code",
   "execution_count": 8,
   "id": "fb1ca147",
   "metadata": {},
   "outputs": [],
   "source": [
    "df1 = pd.read_csv('data/subset.csv')"
   ]
  },
  {
   "cell_type": "code",
   "execution_count": 9,
   "id": "3e4aad9f",
   "metadata": {},
   "outputs": [
    {
     "data": {
      "text/plain": [
       "(10832, 387)"
      ]
     },
     "execution_count": 9,
     "metadata": {},
     "output_type": "execute_result"
    }
   ],
   "source": [
    "df1.shape"
   ]
  },
  {
   "cell_type": "code",
   "execution_count": null,
   "id": "7b37a6ac",
   "metadata": {},
   "outputs": [],
   "source": []
  }
 ],
 "metadata": {
  "kernelspec": {
   "display_name": "mlenv",
   "language": "python",
   "name": "mlenv"
  },
  "language_info": {
   "codemirror_mode": {
    "name": "ipython",
    "version": 3
   },
   "file_extension": ".py",
   "mimetype": "text/x-python",
   "name": "python",
   "nbconvert_exporter": "python",
   "pygments_lexer": "ipython3",
   "version": "3.7.13"
  }
 },
 "nbformat": 4,
 "nbformat_minor": 5
}
