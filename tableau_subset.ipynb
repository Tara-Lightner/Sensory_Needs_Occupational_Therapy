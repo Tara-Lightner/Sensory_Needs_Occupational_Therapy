{
 "cells": [
  {
   "cell_type": "code",
   "execution_count": 1,
   "id": "ccc461b4",
   "metadata": {},
   "outputs": [],
   "source": [
    "import pandas as pd"
   ]
  },
  {
   "cell_type": "code",
   "execution_count": 21,
   "id": "3bef6632",
   "metadata": {},
   "outputs": [
    {
     "data": {
      "text/html": [
       "<div>\n",
       "<style scoped>\n",
       "    .dataframe tbody tr th:only-of-type {\n",
       "        vertical-align: middle;\n",
       "    }\n",
       "\n",
       "    .dataframe tbody tr th {\n",
       "        vertical-align: top;\n",
       "    }\n",
       "\n",
       "    .dataframe thead th {\n",
       "        text-align: right;\n",
       "    }\n",
       "</style>\n",
       "<table border=\"1\" class=\"dataframe\">\n",
       "  <thead>\n",
       "    <tr style=\"text-align: right;\">\n",
       "      <th></th>\n",
       "      <th>sex_1920</th>\n",
       "      <th>DevDelay_1920</th>\n",
       "      <th>autism_1920</th>\n",
       "      <th>BehavSev_1920</th>\n",
       "      <th>DevDelSev_1920</th>\n",
       "      <th>LearnSev_1920</th>\n",
       "      <th>AutismSev_1920</th>\n",
       "      <th>cntdiff</th>\n",
       "      <th>mhealth_1920</th>\n",
       "      <th>AutismInd_1920</th>\n",
       "      <th>MEDB10ScrQ5_1920</th>\n",
       "      <th>nom17_3ASD_1920</th>\n",
       "    </tr>\n",
       "  </thead>\n",
       "  <tbody>\n",
       "    <tr>\n",
       "      <th>0</th>\n",
       "      <td>1</td>\n",
       "      <td>1</td>\n",
       "      <td>1</td>\n",
       "      <td>1</td>\n",
       "      <td>1</td>\n",
       "      <td>1</td>\n",
       "      <td>1</td>\n",
       "      <td>0</td>\n",
       "      <td>2</td>\n",
       "      <td>1</td>\n",
       "      <td>2</td>\n",
       "      <td>3</td>\n",
       "    </tr>\n",
       "    <tr>\n",
       "      <th>1</th>\n",
       "      <td>2</td>\n",
       "      <td>1</td>\n",
       "      <td>1</td>\n",
       "      <td>1</td>\n",
       "      <td>1</td>\n",
       "      <td>1</td>\n",
       "      <td>1</td>\n",
       "      <td>0</td>\n",
       "      <td>2</td>\n",
       "      <td>1</td>\n",
       "      <td>2</td>\n",
       "      <td>3</td>\n",
       "    </tr>\n",
       "    <tr>\n",
       "      <th>2</th>\n",
       "      <td>1</td>\n",
       "      <td>1</td>\n",
       "      <td>1</td>\n",
       "      <td>1</td>\n",
       "      <td>1</td>\n",
       "      <td>1</td>\n",
       "      <td>1</td>\n",
       "      <td>0</td>\n",
       "      <td>2</td>\n",
       "      <td>1</td>\n",
       "      <td>2</td>\n",
       "      <td>3</td>\n",
       "    </tr>\n",
       "    <tr>\n",
       "      <th>3</th>\n",
       "      <td>2</td>\n",
       "      <td>1</td>\n",
       "      <td>1</td>\n",
       "      <td>1</td>\n",
       "      <td>1</td>\n",
       "      <td>1</td>\n",
       "      <td>1</td>\n",
       "      <td>0</td>\n",
       "      <td>2</td>\n",
       "      <td>1</td>\n",
       "      <td>2</td>\n",
       "      <td>3</td>\n",
       "    </tr>\n",
       "    <tr>\n",
       "      <th>4</th>\n",
       "      <td>2</td>\n",
       "      <td>1</td>\n",
       "      <td>1</td>\n",
       "      <td>1</td>\n",
       "      <td>1</td>\n",
       "      <td>1</td>\n",
       "      <td>1</td>\n",
       "      <td>0</td>\n",
       "      <td>2</td>\n",
       "      <td>1</td>\n",
       "      <td>2</td>\n",
       "      <td>3</td>\n",
       "    </tr>\n",
       "  </tbody>\n",
       "</table>\n",
       "</div>"
      ],
      "text/plain": [
       "   sex_1920  DevDelay_1920  autism_1920  BehavSev_1920  DevDelSev_1920  \\\n",
       "0         1              1            1              1               1   \n",
       "1         2              1            1              1               1   \n",
       "2         1              1            1              1               1   \n",
       "3         2              1            1              1               1   \n",
       "4         2              1            1              1               1   \n",
       "\n",
       "   LearnSev_1920  AutismSev_1920  cntdiff  mhealth_1920  AutismInd_1920  \\\n",
       "0              1               1        0             2               1   \n",
       "1              1               1        0             2               1   \n",
       "2              1               1        0             2               1   \n",
       "3              1               1        0             2               1   \n",
       "4              1               1        0             2               1   \n",
       "\n",
       "   MEDB10ScrQ5_1920  nom17_3ASD_1920  \n",
       "0                 2                3  \n",
       "1                 2                3  \n",
       "2                 2                3  \n",
       "3                 2                3  \n",
       "4                 2                3  "
      ]
     },
     "execution_count": 21,
     "metadata": {},
     "output_type": "execute_result"
    }
   ],
   "source": [
    "cols = ['AutismInd_1920','sex_1920','MEDB10ScrQ5_1920','nom17_3ASD_1920','BehavSev_1920',\n",
    "        'DevDelSev_1920','LearnSev_1920','AutismSev_1920','cntdiff','autism_1920','mhealth_1920','DevDelay_1920']\n",
    "\n",
    "df = pd.read_csv('data/2019-2020 NSCH_Topical_CAHMI_DRC.csv', usecols= cols)\n",
    "df.head()"
   ]
  },
  {
   "cell_type": "code",
   "execution_count": 23,
   "id": "c0905eed",
   "metadata": {},
   "outputs": [
    {
     "data": {
      "text/plain": [
       "sex_1920             2\n",
       "DevDelay_1920        5\n",
       "autism_1920          5\n",
       "BehavSev_1920        5\n",
       "DevDelSev_1920       5\n",
       "LearnSev_1920        5\n",
       "AutismSev_1920       5\n",
       "cntdiff             12\n",
       "mhealth_1920         2\n",
       "AutismInd_1920       5\n",
       "MEDB10ScrQ5_1920     3\n",
       "nom17_3ASD_1920      5\n",
       "dtype: int64"
      ]
     },
     "execution_count": 23,
     "metadata": {},
     "output_type": "execute_result"
    }
   ],
   "source": [
    "df.nunique()"
   ]
  },
  {
   "cell_type": "code",
   "execution_count": 24,
   "id": "294100d7",
   "metadata": {},
   "outputs": [],
   "source": [
    "df = df[df['AutismInd_1920'] != 99]\n",
    "df = df[df['AutismInd_1920'] != 2]\n",
    "df = df[df['cntdiff'] != 99]"
   ]
  },
  {
   "cell_type": "code",
   "execution_count": 27,
   "id": "86d88402",
   "metadata": {},
   "outputs": [
    {
     "data": {
      "text/plain": [
       "sex_1920             2\n",
       "DevDelay_1920        5\n",
       "autism_1920          3\n",
       "BehavSev_1920        5\n",
       "DevDelSev_1920       5\n",
       "LearnSev_1920        5\n",
       "AutismSev_1920       5\n",
       "cntdiff             11\n",
       "mhealth_1920         2\n",
       "AutismInd_1920       3\n",
       "MEDB10ScrQ5_1920     3\n",
       "nom17_3ASD_1920      3\n",
       "dtype: int64"
      ]
     },
     "execution_count": 27,
     "metadata": {},
     "output_type": "execute_result"
    }
   ],
   "source": [
    "df.nunique()"
   ]
  },
  {
   "cell_type": "code",
   "execution_count": 28,
   "id": "e62ab27b",
   "metadata": {},
   "outputs": [
    {
     "data": {
      "text/plain": [
       "sex_1920            0\n",
       "DevDelay_1920       0\n",
       "autism_1920         0\n",
       "BehavSev_1920       0\n",
       "DevDelSev_1920      0\n",
       "LearnSev_1920       0\n",
       "AutismSev_1920      0\n",
       "cntdiff             0\n",
       "mhealth_1920        0\n",
       "AutismInd_1920      0\n",
       "MEDB10ScrQ5_1920    0\n",
       "nom17_3ASD_1920     0\n",
       "dtype: int64"
      ]
     },
     "execution_count": 28,
     "metadata": {},
     "output_type": "execute_result"
    }
   ],
   "source": [
    "df.isnull().sum()"
   ]
  },
  {
   "cell_type": "code",
   "execution_count": 29,
   "id": "492a682b",
   "metadata": {},
   "outputs": [],
   "source": [
    "df.to_csv('data/subset_tableau.csv', index= False )"
   ]
  },
  {
   "cell_type": "code",
   "execution_count": 2,
   "id": "c3801445",
   "metadata": {},
   "outputs": [
    {
     "data": {
      "text/html": [
       "<div>\n",
       "<style scoped>\n",
       "    .dataframe tbody tr th:only-of-type {\n",
       "        vertical-align: middle;\n",
       "    }\n",
       "\n",
       "    .dataframe tbody tr th {\n",
       "        vertical-align: top;\n",
       "    }\n",
       "\n",
       "    .dataframe thead th {\n",
       "        text-align: right;\n",
       "    }\n",
       "</style>\n",
       "<table border=\"1\" class=\"dataframe\">\n",
       "  <thead>\n",
       "    <tr style=\"text-align: right;\">\n",
       "      <th></th>\n",
       "      <th>FIPSST</th>\n",
       "      <th>STRATUM</th>\n",
       "      <th>FORMTYPE</th>\n",
       "      <th>TOTKIDS_R</th>\n",
       "    </tr>\n",
       "  </thead>\n",
       "  <tbody>\n",
       "    <tr>\n",
       "      <th>0</th>\n",
       "      <td>1</td>\n",
       "      <td>1</td>\n",
       "      <td>3</td>\n",
       "      <td>2</td>\n",
       "    </tr>\n",
       "    <tr>\n",
       "      <th>1</th>\n",
       "      <td>1</td>\n",
       "      <td>1</td>\n",
       "      <td>1</td>\n",
       "      <td>4</td>\n",
       "    </tr>\n",
       "    <tr>\n",
       "      <th>2</th>\n",
       "      <td>1</td>\n",
       "      <td>1</td>\n",
       "      <td>3</td>\n",
       "      <td>3</td>\n",
       "    </tr>\n",
       "    <tr>\n",
       "      <th>3</th>\n",
       "      <td>1</td>\n",
       "      <td>1</td>\n",
       "      <td>3</td>\n",
       "      <td>1</td>\n",
       "    </tr>\n",
       "    <tr>\n",
       "      <th>4</th>\n",
       "      <td>1</td>\n",
       "      <td>1</td>\n",
       "      <td>1</td>\n",
       "      <td>1</td>\n",
       "    </tr>\n",
       "  </tbody>\n",
       "</table>\n",
       "</div>"
      ],
      "text/plain": [
       "   FIPSST  STRATUM  FORMTYPE  TOTKIDS_R\n",
       "0       1        1         3          2\n",
       "1       1        1         1          4\n",
       "2       1        1         3          3\n",
       "3       1        1         3          1\n",
       "4       1        1         1          1"
      ]
     },
     "execution_count": 2,
     "metadata": {},
     "output_type": "execute_result"
    }
   ],
   "source": [
    "cols = ['FIPSST','TOTKIDS_R']\n",
    "df1 = pd.read_csv('data/2019-2020 NSCH_Topical_CAHMI_DRC.csv', usecols= cols)\n",
    "df1.head()"
   ]
  },
  {
   "cell_type": "code",
   "execution_count": 3,
   "id": "91357fed",
   "metadata": {},
   "outputs": [
    {
     "data": {
      "text/plain": [
       "FIPSST       51\n",
       "STRATUM       2\n",
       "FORMTYPE      3\n",
       "TOTKIDS_R     4\n",
       "dtype: int64"
      ]
     },
     "execution_count": 3,
     "metadata": {},
     "output_type": "execute_result"
    }
   ],
   "source": [
    "df1.nunique()"
   ]
  },
  {
   "cell_type": "code",
   "execution_count": 6,
   "id": "0b53f417",
   "metadata": {},
   "outputs": [
    {
     "data": {
      "text/plain": [
       "FIPSST       0\n",
       "STRATUM      0\n",
       "FORMTYPE     0\n",
       "TOTKIDS_R    0\n",
       "dtype: int64"
      ]
     },
     "execution_count": 6,
     "metadata": {},
     "output_type": "execute_result"
    }
   ],
   "source": [
    "df1.isnull().sum()"
   ]
  },
  {
   "cell_type": "code",
   "execution_count": null,
   "id": "410db48f",
   "metadata": {},
   "outputs": [],
   "source": []
  }
 ],
 "metadata": {
  "kernelspec": {
   "display_name": "PythonData",
   "language": "python",
   "name": "pythondata"
  },
  "language_info": {
   "codemirror_mode": {
    "name": "ipython",
    "version": 3
   },
   "file_extension": ".py",
   "mimetype": "text/x-python",
   "name": "python",
   "nbconvert_exporter": "python",
   "pygments_lexer": "ipython3",
   "version": "3.7.11"
  }
 },
 "nbformat": 4,
 "nbformat_minor": 5
}
