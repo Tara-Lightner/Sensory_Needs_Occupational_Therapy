{
 "cells": [
  {
   "cell_type": "code",
   "execution_count": 1,
   "id": "ccc461b4",
   "metadata": {},
   "outputs": [],
   "source": [
    "import pandas as pd"
   ]
  },
  {
   "cell_type": "code",
   "execution_count": 20,
   "id": "3bef6632",
   "metadata": {},
   "outputs": [
    {
     "data": {
      "text/html": [
       "<div>\n",
       "<style scoped>\n",
       "    .dataframe tbody tr th:only-of-type {\n",
       "        vertical-align: middle;\n",
       "    }\n",
       "\n",
       "    .dataframe tbody tr th {\n",
       "        vertical-align: top;\n",
       "    }\n",
       "\n",
       "    .dataframe thead th {\n",
       "        text-align: right;\n",
       "    }\n",
       "</style>\n",
       "<table border=\"1\" class=\"dataframe\">\n",
       "  <thead>\n",
       "    <tr style=\"text-align: right;\">\n",
       "      <th></th>\n",
       "      <th>FIPSST</th>\n",
       "      <th>TOTKIDS_R</th>\n",
       "      <th>sex_1920</th>\n",
       "      <th>DevDelay_1920</th>\n",
       "      <th>autism_1920</th>\n",
       "      <th>BehavSev_1920</th>\n",
       "      <th>DevDelSev_1920</th>\n",
       "      <th>LearnSev_1920</th>\n",
       "      <th>AutismSev_1920</th>\n",
       "      <th>cntdiff</th>\n",
       "      <th>mhealth_1920</th>\n",
       "      <th>AutismInd_1920</th>\n",
       "      <th>MEDB10ScrQ5_1920</th>\n",
       "      <th>nom17_3ASD_1920</th>\n",
       "    </tr>\n",
       "  </thead>\n",
       "  <tbody>\n",
       "    <tr>\n",
       "      <th>0</th>\n",
       "      <td>1</td>\n",
       "      <td>2</td>\n",
       "      <td>1</td>\n",
       "      <td>1</td>\n",
       "      <td>1</td>\n",
       "      <td>1</td>\n",
       "      <td>1</td>\n",
       "      <td>1</td>\n",
       "      <td>1</td>\n",
       "      <td>0</td>\n",
       "      <td>2</td>\n",
       "      <td>1</td>\n",
       "      <td>2</td>\n",
       "      <td>3</td>\n",
       "    </tr>\n",
       "    <tr>\n",
       "      <th>1</th>\n",
       "      <td>1</td>\n",
       "      <td>4</td>\n",
       "      <td>2</td>\n",
       "      <td>1</td>\n",
       "      <td>1</td>\n",
       "      <td>1</td>\n",
       "      <td>1</td>\n",
       "      <td>1</td>\n",
       "      <td>1</td>\n",
       "      <td>0</td>\n",
       "      <td>2</td>\n",
       "      <td>1</td>\n",
       "      <td>2</td>\n",
       "      <td>3</td>\n",
       "    </tr>\n",
       "    <tr>\n",
       "      <th>2</th>\n",
       "      <td>1</td>\n",
       "      <td>3</td>\n",
       "      <td>1</td>\n",
       "      <td>1</td>\n",
       "      <td>1</td>\n",
       "      <td>1</td>\n",
       "      <td>1</td>\n",
       "      <td>1</td>\n",
       "      <td>1</td>\n",
       "      <td>0</td>\n",
       "      <td>2</td>\n",
       "      <td>1</td>\n",
       "      <td>2</td>\n",
       "      <td>3</td>\n",
       "    </tr>\n",
       "    <tr>\n",
       "      <th>3</th>\n",
       "      <td>1</td>\n",
       "      <td>1</td>\n",
       "      <td>2</td>\n",
       "      <td>1</td>\n",
       "      <td>1</td>\n",
       "      <td>1</td>\n",
       "      <td>1</td>\n",
       "      <td>1</td>\n",
       "      <td>1</td>\n",
       "      <td>0</td>\n",
       "      <td>2</td>\n",
       "      <td>1</td>\n",
       "      <td>2</td>\n",
       "      <td>3</td>\n",
       "    </tr>\n",
       "    <tr>\n",
       "      <th>4</th>\n",
       "      <td>1</td>\n",
       "      <td>1</td>\n",
       "      <td>2</td>\n",
       "      <td>1</td>\n",
       "      <td>1</td>\n",
       "      <td>1</td>\n",
       "      <td>1</td>\n",
       "      <td>1</td>\n",
       "      <td>1</td>\n",
       "      <td>0</td>\n",
       "      <td>2</td>\n",
       "      <td>1</td>\n",
       "      <td>2</td>\n",
       "      <td>3</td>\n",
       "    </tr>\n",
       "  </tbody>\n",
       "</table>\n",
       "</div>"
      ],
      "text/plain": [
       "   FIPSST  TOTKIDS_R  sex_1920  DevDelay_1920  autism_1920  BehavSev_1920  \\\n",
       "0       1          2         1              1            1              1   \n",
       "1       1          4         2              1            1              1   \n",
       "2       1          3         1              1            1              1   \n",
       "3       1          1         2              1            1              1   \n",
       "4       1          1         2              1            1              1   \n",
       "\n",
       "   DevDelSev_1920  LearnSev_1920  AutismSev_1920  cntdiff  mhealth_1920  \\\n",
       "0               1              1               1        0             2   \n",
       "1               1              1               1        0             2   \n",
       "2               1              1               1        0             2   \n",
       "3               1              1               1        0             2   \n",
       "4               1              1               1        0             2   \n",
       "\n",
       "   AutismInd_1920  MEDB10ScrQ5_1920  nom17_3ASD_1920  \n",
       "0               1                 2                3  \n",
       "1               1                 2                3  \n",
       "2               1                 2                3  \n",
       "3               1                 2                3  \n",
       "4               1                 2                3  "
      ]
     },
     "execution_count": 20,
     "metadata": {},
     "output_type": "execute_result"
    }
   ],
   "source": [
    "cols = ['FIPSST','TOTKIDS_R','AutismInd_1920','sex_1920','MEDB10ScrQ5_1920','nom17_3ASD_1920','BehavSev_1920',\n",
    "        'DevDelSev_1920','LearnSev_1920','AutismSev_1920','cntdiff','autism_1920','mhealth_1920','DevDelay_1920']\n",
    "\n",
    "df = pd.read_csv('data/2019-2020 NSCH_Topical_CAHMI_DRC.csv', usecols= cols)\n",
    "df.head()"
   ]
  },
  {
   "cell_type": "code",
   "execution_count": 21,
   "id": "c0905eed",
   "metadata": {},
   "outputs": [
    {
     "data": {
      "text/plain": [
       "array([ 1,  2,  4,  5,  6,  8,  9, 10, 11, 12, 13, 15, 16, 17, 18, 19, 20,\n",
       "       21, 22, 23, 24, 25, 26, 27, 28, 29, 30, 31, 32, 33, 34, 35, 36, 37,\n",
       "       38, 39, 40, 41, 42, 44, 45, 46, 47, 48, 49, 50, 51, 53, 54, 55, 56],\n",
       "      dtype=int64)"
      ]
     },
     "execution_count": 21,
     "metadata": {},
     "output_type": "execute_result"
    }
   ],
   "source": [
    "df['FIPSST'].unique()"
   ]
  },
  {
   "cell_type": "code",
   "execution_count": 4,
   "id": "294100d7",
   "metadata": {},
   "outputs": [],
   "source": [
    "df = df[df['AutismInd_1920'] != 99]\n",
    "df = df[df['AutismInd_1920'] != 2]\n",
    "df = df[df['cntdiff'] != 99]"
   ]
  },
  {
   "cell_type": "code",
   "execution_count": 5,
   "id": "86d88402",
   "metadata": {},
   "outputs": [
    {
     "data": {
      "text/plain": [
       "FIPSST              51\n",
       "TOTKIDS_R            4\n",
       "sex_1920             2\n",
       "DevDelay_1920        5\n",
       "autism_1920          3\n",
       "BehavSev_1920        5\n",
       "DevDelSev_1920       5\n",
       "LearnSev_1920        5\n",
       "AutismSev_1920       5\n",
       "cntdiff             11\n",
       "mhealth_1920         2\n",
       "AutismInd_1920       3\n",
       "MEDB10ScrQ5_1920     3\n",
       "nom17_3ASD_1920      3\n",
       "dtype: int64"
      ]
     },
     "execution_count": 5,
     "metadata": {},
     "output_type": "execute_result"
    }
   ],
   "source": [
    "df.nunique()"
   ]
  },
  {
   "cell_type": "code",
   "execution_count": 6,
   "id": "e62ab27b",
   "metadata": {},
   "outputs": [
    {
     "data": {
      "text/plain": [
       "FIPSST              0\n",
       "TOTKIDS_R           0\n",
       "sex_1920            0\n",
       "DevDelay_1920       0\n",
       "autism_1920         0\n",
       "BehavSev_1920       0\n",
       "DevDelSev_1920      0\n",
       "LearnSev_1920       0\n",
       "AutismSev_1920      0\n",
       "cntdiff             0\n",
       "mhealth_1920        0\n",
       "AutismInd_1920      0\n",
       "MEDB10ScrQ5_1920    0\n",
       "nom17_3ASD_1920     0\n",
       "dtype: int64"
      ]
     },
     "execution_count": 6,
     "metadata": {},
     "output_type": "execute_result"
    }
   ],
   "source": [
    "df.isnull().sum()"
   ]
  },
  {
   "cell_type": "code",
   "execution_count": 7,
   "id": "492a682b",
   "metadata": {},
   "outputs": [],
   "source": [
    "df.to_csv('data/subset_tableau.csv', index= False )"
   ]
  },
  {
   "cell_type": "code",
   "execution_count": 8,
   "id": "410db48f",
   "metadata": {},
   "outputs": [],
   "source": [
    "def fix_fips(fips, total_length):\n",
    "    \"\"\"Takes a broken FIPS and repairs it\"\"\"\n",
    "    fips = str(fips)\n",
    "    current_length = len(fips)\n",
    "    if current_length < total_length:\n",
    "        number_of_leading_zeros = total_length - current_length\n",
    "        leading_zeros = ''.join('0' * number_of_leading_zeros)\n",
    "        fips = leading_zeros + fips\n",
    "    return fips"
   ]
  },
  {
   "cell_type": "code",
   "execution_count": 11,
   "id": "1b5ae940",
   "metadata": {},
   "outputs": [],
   "source": [
    "df['FIPSST'] = df['FIPSST'].apply(fix_fips, args=(5,))"
   ]
  },
  {
   "cell_type": "code",
   "execution_count": null,
   "id": "fd97dcb9",
   "metadata": {},
   "outputs": [],
   "source": []
  }
 ],
 "metadata": {
  "kernelspec": {
   "display_name": "PythonData",
   "language": "python",
   "name": "pythondata"
  },
  "language_info": {
   "codemirror_mode": {
    "name": "ipython",
    "version": 3
   },
   "file_extension": ".py",
   "mimetype": "text/x-python",
   "name": "python",
   "nbconvert_exporter": "python",
   "pygments_lexer": "ipython3",
   "version": "3.7.11"
  }
 },
 "nbformat": 4,
 "nbformat_minor": 5
}
