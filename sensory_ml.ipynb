{
 "cells": [
  {
   "cell_type": "code",
   "execution_count": 1,
   "id": "75c5be92",
   "metadata": {},
   "outputs": [],
   "source": [
    "# Import dependencies\n",
    "from sklearn.model_selection import train_test_split\n",
    "from sklearn.preprocessing import StandardScaler,OneHotEncoder\n",
    "from sklearn.linear_model import LinearRegression\n",
    "from tensorflow.keras.callbacks import ModelCheckpoint\n",
    "import os\n",
    "import numpy as np # May be needed\n",
    "import pandas as pd\n",
    "import tensorflow as tf"
   ]
  },
  {
   "cell_type": "code",
   "execution_count": 2,
   "id": "00fb1e8d",
   "metadata": {},
   "outputs": [],
   "source": [
    "# Import preprocessed data\n",
    "# Process more if needed"
   ]
  },
  {
   "cell_type": "code",
   "execution_count": null,
   "id": "7c284238",
   "metadata": {},
   "outputs": [],
   "source": [
    "# Split preprocessed data\n",
    "y = df[\"\"].values # Enter target column\n",
    "X = df.drop([\"\"],1).values # Enter features columns\n",
    "\n",
    "# Split into training and testing dataset\n",
    "X_train, X_test, y_train, y_test = train_test_split(X, y, random_state=1)"
   ]
  },
  {
   "cell_type": "code",
   "execution_count": null,
   "id": "cd8a8600",
   "metadata": {},
   "outputs": [],
   "source": [
    "# Create a StandardScaler instance, not sure if needed but it wouln't hurt\n",
    "scaler = StandardScaler()\n",
    "\n",
    "# Fit the StandardScaler\n",
    "X_scaler = scaler.fit(X_train)\n",
    "\n",
    "# Scale the data\n",
    "X_train_scaled = X_scaler.transform(X_train)\n",
    "X_test_scaled = X_scaler.transform(X_test)"
   ]
  },
  {
   "cell_type": "code",
   "execution_count": null,
   "id": "72c59e57",
   "metadata": {},
   "outputs": [],
   "source": [
    "# Define model. Will need to play wit it.\n",
    "number_input_features = len(X_train[0]) # Number of input nodes equal to number of features\n",
    "hidden_nodes_layer1 = # Enter number of nodes\n",
    "\n",
    "nn = tf.keras.models.Sequential()\n",
    "\n",
    "# Input hidden layer\n",
    "nn.add(tf.keras.layers.Dense(units=hidden_nodes_layer1, input_dim=number_input_features, activation=\"relu\"))\n",
    "\n",
    "# Hidden layer\n",
    "nn.add(tf.keras.layers.Dense(units=hidden_nodes_layer1, activation=\"relu\"))\n",
    "\n",
    "# Output layer\n",
    "nn.add(tf.keras.layers.Dense(units=1, activation=\"relu\"))\n",
    "\n",
    "# Check the structure of the model\n",
    "nn.summary()"
   ]
  },
  {
   "cell_type": "code",
   "execution_count": null,
   "id": "3248c550",
   "metadata": {},
   "outputs": [],
   "source": [
    "# Compile model\n",
    "nn.compile(loss=\"binary_crossentropy\", optimizer=\"adam\", metrics=[\"accuracy\"])"
   ]
  },
  {
   "cell_type": "code",
   "execution_count": null,
   "id": "ab1482e0",
   "metadata": {},
   "outputs": [],
   "source": [
    "# Train model\n",
    "fit_model = nn.fit(X_train,y_train,epochs=)"
   ]
  },
  {
   "cell_type": "code",
   "execution_count": null,
   "id": "b17d6f1e",
   "metadata": {},
   "outputs": [],
   "source": [
    "# We may need to save checkpoints\n",
    "os.makedirs(\"checkpoints/\",exist_ok=True)\n",
    "checkpoint_path = \"checkpoints/Sensory.{epoch:05d}.hdf5\""
   ]
  },
  {
   "cell_type": "code",
   "execution_count": null,
   "id": "5b132331",
   "metadata": {},
   "outputs": [],
   "source": [
    "# Compile the model\n",
    "nn.compile(loss=\"binary_crossentropy\", optimizer=\"adam\", metrics=[\"accuracy\"])\n",
    "\n",
    "# Create a callback that saves the model's weights every epoch\n",
    "cp_callback = ModelCheckpoint(\n",
    "    filepath=checkpoint_path,\n",
    "    verbose=1,\n",
    "    save_weights_only=True,\n",
    "    period=5)\n",
    "\n",
    "# Train the model\n",
    "fit_model = nn.fit(X_train_scaled,y_train,epochs=100,callbacks=[cp_callback])\n",
    "\n",
    "# Evaluate the model using the test data\n",
    "model_loss, model_accuracy = nn.evaluate(X_test_scaled,y_test,verbose=2)\n",
    "print(f\"Loss: {model_loss}, Accuracy: {model_accuracy}\")"
   ]
  },
  {
   "cell_type": "code",
   "execution_count": null,
   "id": "97806e0d",
   "metadata": {},
   "outputs": [],
   "source": [
    "# Export model file if needed\n",
    "nn.save(\"Sensory.h5\")"
   ]
  },
  {
   "cell_type": "code",
   "execution_count": null,
   "id": "9c9ed487",
   "metadata": {},
   "outputs": [],
   "source": [
    "# A different model maybe needed, I was thinking sklearn linear regression model.\n",
    "# Not sure how this one works, data may need to be standarized or normalized if not, we may be able to start with this\n",
    "\n",
    "new_model = LinearRegression().fit(X, y)\n",
    "# This gives as some results that may be useful\n",
    "new_model.coef_\n",
    "new_model.intercept_\n",
    "\n",
    "# This will predict\n",
    "reg.predict(df['']) # x column. Shape has to match\n",
    "\n",
    "# This will help us determine how accurate the model is\n",
    "r2_score()"
   ]
  },
  {
   "cell_type": "code",
   "execution_count": null,
   "id": "1a914e84",
   "metadata": {},
   "outputs": [],
   "source": []
  }
 ],
 "metadata": {
  "kernelspec": {
   "display_name": "mlenv",
   "language": "python",
   "name": "mlenv"
  },
  "language_info": {
   "codemirror_mode": {
    "name": "ipython",
    "version": 3
   },
   "file_extension": ".py",
   "mimetype": "text/x-python",
   "name": "python",
   "nbconvert_exporter": "python",
   "pygments_lexer": "ipython3",
   "version": "3.7.13"
  }
 },
 "nbformat": 4,
 "nbformat_minor": 5
}
