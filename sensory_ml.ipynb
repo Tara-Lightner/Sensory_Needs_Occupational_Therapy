{
 "cells": [
  {
   "cell_type": "code",
<<<<<<< HEAD
   "execution_count": 5,
=======
   "execution_count": 1,
>>>>>>> salmaciel
   "id": "75c5be92",
   "metadata": {},
   "outputs": [],
   "source": [
    "# Import dependencies\n",
    "from sklearn.model_selection import train_test_split\n",
    "from sklearn.linear_model import LinearRegression\n",
    "import matplotlib.pyplot as plt\n",
    "from sklearn import linear_model\n",
    "from sklearn.metrics import mean_squared_error, r2_score\n",
    "import os\n",
    "import numpy as np\n",
    "import pandas as pd"
   ]
  },
  {
   "cell_type": "code",
<<<<<<< HEAD
   "execution_count": 12,
=======
   "execution_count": 2,
>>>>>>> salmaciel
   "id": "00fb1e8d",
   "metadata": {},
   "outputs": [
    {
     "data": {
      "text/html": [
       "<div>\n",
       "<style scoped>\n",
       "    .dataframe tbody tr th:only-of-type {\n",
       "        vertical-align: middle;\n",
       "    }\n",
       "\n",
       "    .dataframe tbody tr th {\n",
       "        vertical-align: top;\n",
       "    }\n",
       "\n",
       "    .dataframe thead th {\n",
       "        text-align: right;\n",
       "    }\n",
       "</style>\n",
       "<table border=\"1\" class=\"dataframe\">\n",
       "  <thead>\n",
       "    <tr style=\"text-align: right;\">\n",
       "      <th></th>\n",
       "      <th>Location</th>\n",
       "      <th>Denominator</th>\n",
       "      <th>Prevalence</th>\n",
       "      <th>Lower CI</th>\n",
       "      <th>Upper CI</th>\n",
       "      <th>Year</th>\n",
       "      <th>Source</th>\n",
       "    </tr>\n",
       "  </thead>\n",
       "  <tbody>\n",
       "    <tr>\n",
       "      <th>0</th>\n",
       "      <td>AZ</td>\n",
       "      <td>45322.0</td>\n",
       "      <td>6.5</td>\n",
       "      <td>5.8</td>\n",
       "      <td>7.3</td>\n",
       "      <td>2000</td>\n",
       "      <td>addm</td>\n",
       "    </tr>\n",
       "    <tr>\n",
       "      <th>1</th>\n",
       "      <td>GA</td>\n",
       "      <td>43593.0</td>\n",
       "      <td>6.5</td>\n",
       "      <td>5.8</td>\n",
       "      <td>7.3</td>\n",
       "      <td>2000</td>\n",
       "      <td>addm</td>\n",
       "    </tr>\n",
       "    <tr>\n",
       "      <th>2</th>\n",
       "      <td>MD</td>\n",
       "      <td>21532.0</td>\n",
       "      <td>5.5</td>\n",
       "      <td>4.6</td>\n",
       "      <td>6.6</td>\n",
       "      <td>2000</td>\n",
       "      <td>addm</td>\n",
       "    </tr>\n",
       "    <tr>\n",
       "      <th>3</th>\n",
       "      <td>NJ</td>\n",
       "      <td>29714.0</td>\n",
       "      <td>9.9</td>\n",
       "      <td>8.9</td>\n",
       "      <td>11.1</td>\n",
       "      <td>2000</td>\n",
       "      <td>addm</td>\n",
       "    </tr>\n",
       "    <tr>\n",
       "      <th>4</th>\n",
       "      <td>SC</td>\n",
       "      <td>24535.0</td>\n",
       "      <td>6.3</td>\n",
       "      <td>5.4</td>\n",
       "      <td>7.4</td>\n",
       "      <td>2000</td>\n",
       "      <td>addm</td>\n",
       "    </tr>\n",
       "  </tbody>\n",
       "</table>\n",
       "</div>"
      ],
      "text/plain": [
       "  Location  Denominator  Prevalence  Lower CI  Upper CI  Year Source\n",
       "0       AZ      45322.0         6.5       5.8       7.3  2000   addm\n",
       "1       GA      43593.0         6.5       5.8       7.3  2000   addm\n",
       "2       MD      21532.0         5.5       4.6       6.6  2000   addm\n",
       "3       NJ      29714.0         9.9       8.9      11.1  2000   addm\n",
       "4       SC      24535.0         6.3       5.4       7.4  2000   addm"
      ]
     },
<<<<<<< HEAD
     "execution_count": 12,
=======
     "execution_count": 2,
>>>>>>> salmaciel
     "metadata": {},
     "output_type": "execute_result"
    }
   ],
   "source": [
<<<<<<< HEAD
<<<<<<< HEAD
    "# Import and read data\n",
    "sensory_df = pd.DataFrame(pd.read_excel(\"ADV_AllData.xlsx\"))\n",
    "sensory_df.head()"
=======
    "# Import preprocessed data\n",
    "# Process more if needed"
>>>>>>> salmaciel
   ]
  },
  {
   "cell_type": "code",
<<<<<<< HEAD
   "execution_count": 13,
   "id": "91b38fca",
=======
   "execution_count": null,
   "id": "7c284238",
>>>>>>> salmaciel
   "metadata": {},
   "outputs": [
    {
     "data": {
      "text/plain": [
       "Location        object\n",
       "Denominator    float64\n",
       "Prevalence     float64\n",
       "Lower CI       float64\n",
       "Upper CI       float64\n",
       "Year             int64\n",
       "Source          object\n",
       "dtype: object"
      ]
     },
     "execution_count": 13,
     "metadata": {},
     "output_type": "execute_result"
    }
   ],
   "source": [
<<<<<<< HEAD
    "# Explore, visualize, preprocess data\n",
    "sensory_df.dtypes"
   ]
  },
  {
   "cell_type": "code",
   "execution_count": 18,
   "id": "a423b83e",
   "metadata": {},
   "outputs": [
    {
     "data": {
      "text/plain": [
       "Location       1877\n",
       "Denominator    1830\n",
       "Prevalence     1869\n",
       "Lower CI       1869\n",
       "Upper CI       1869\n",
       "Year           1877\n",
       "Source         1877\n",
       "dtype: int64"
      ]
     },
     "execution_count": 18,
     "metadata": {},
     "output_type": "execute_result"
    }
   ],
   "source": [
    "sensory_df.count()"
   ]
  },
  {
   "cell_type": "code",
   "execution_count": 21,
   "id": "834b13ae",
   "metadata": {},
   "outputs": [
    {
     "data": {
      "text/plain": [
       "array([[<AxesSubplot:title={'center':'Denominator'}>,\n",
       "        <AxesSubplot:title={'center':'Prevalence'}>],\n",
       "       [<AxesSubplot:title={'center':'Lower CI'}>,\n",
       "        <AxesSubplot:title={'center':'Upper CI'}>],\n",
       "       [<AxesSubplot:title={'center':'Year'}>, <AxesSubplot:>]],\n",
       "      dtype=object)"
      ]
     },
     "execution_count": 21,
     "metadata": {},
     "output_type": "execute_result"
    },
    {
     "data": {
      "image/png": "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\n",
      "text/plain": [
       "<Figure size 432x288 with 6 Axes>"
      ]
     },
     "metadata": {
      "needs_background": "light"
     },
     "output_type": "display_data"
    }
   ],
   "source": [
    "sensory_df.hist()"
=======
    "# Import and preprocess data\n",
    "file5 = 'data/ADV_AllData.csv'\n",
    "df5 = pd.read_csv(file5)\n",
    "df5.head()"
>>>>>>> salmaciel
   ]
  },
  {
   "cell_type": "code",
<<<<<<< HEAD
   "execution_count": null,
   "id": "78012031",
   "metadata": {},
   "outputs": [],
   "source": []
  },
  {
   "cell_type": "code",
   "execution_count": null,
   "id": "91b45604",
   "metadata": {},
   "outputs": [],
   "source": [
    "# Split preprocessed data into features and target arrays\n",
    "y = application_df[\"\"].values\n",
    "X = application_df.drop([\"\"],1).values\n",
=======
    "# Split preprocessed data\n",
    "y = df[\"\"].values # Enter target column\n",
    "X = df.drop([\"\"],1).values # Enter features columns\n",
>>>>>>> salmaciel
    "\n",
    "# Split into training and testing dataset\n",
    "X_train, X_test, y_train, y_test = train_test_split(X, y, random_state=1)"
=======
   "execution_count": 3,
   "id": "54078e82",
   "metadata": {},
   "outputs": [],
   "source": [
    "test=df5[['Year','Prevalence']]\n",
    "test = test.dropna()"
>>>>>>> salmaciel
   ]
  },
  {
   "cell_type": "markdown",
   "id": "2a65da98",
   "metadata": {},
   "source": [
    "## First try for regression model using only 1 feature"
   ]
  },
  {
   "cell_type": "code",
   "execution_count": 4,
   "id": "1a914e84",
   "metadata": {},
   "outputs": [
    {
     "name": "stdout",
     "output_type": "stream",
     "text": [
      "Coefficients: \n",
      " [[0.79080526]]\n",
      "Mean squared error: 22.03\n",
      "Coefficient of determination: 0.49\n"
     ]
    },
    {
     "data": {
      "image/png": "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\n",
      "text/plain": [
       "<Figure size 432x288 with 1 Axes>"
      ]
     },
     "metadata": {},
     "output_type": "display_data"
    }
   ],
   "source": [
    "# Splitting data into training and testing sets\n",
    "\n",
    "X_train, X_test, y_train, y_test = train_test_split(test['Year'], test['Prevalence'], random_state=1)\n",
    "\n",
    "# Turning sets into numpy arrays and reshaping them \n",
    "\n",
    "X_train = np.array(X_train).reshape(-1,1)\n",
    "X_test = np.array(X_test).reshape(-1,1)\n",
    "y_train = np.array(y_train).reshape(-1,1)\n",
    "y_test = np.array(y_test).reshape(-1,1)\n",
    "\n",
    "# Create linear regression object\n",
    "regr = linear_model.LinearRegression()\n",
    "\n",
    "# Train the model using the training sets\n",
    "regr.fit(X_train, y_train)\n",
    "\n",
    "# Make predictions using the test set\n",
    "y_pred = regr.predict(X_test)\n",
    "\n",
    "# The coefficients\n",
    "print(\"Coefficients: \\n\", regr.coef_)\n",
    "# The mean squared error\n",
    "print(\"Mean squared error: %.2f\" % mean_squared_error(y_test, y_pred))\n",
    "# The coefficient of determination: 1 is perfect prediction\n",
    "print(\"Coefficient of determination: %.2f\" % r2_score(y_test, y_pred))\n",
    "\n",
    "# Plot outputs\n",
    "plt.scatter(X_test, y_test, color=\"black\")\n",
    "plt.plot(X_test, y_pred, color=\"blue\", linewidth=3)\n",
    "\n",
    "plt.xticks(())\n",
    "plt.yticks(())\n",
    "\n",
    "plt.show()"
   ]
  },
  {
   "cell_type": "code",
   "execution_count": 5,
   "id": "5158274e",
   "metadata": {},
   "outputs": [],
   "source": [
    "# First try"
   ]
  },
  {
   "cell_type": "code",
   "execution_count": null,
   "id": "b5538357",
   "metadata": {},
   "outputs": [],
   "source": []
  }
 ],
 "metadata": {
  "kernelspec": {
   "display_name": "mlenv",
   "language": "python",
   "name": "mlenv"
  },
  "language_info": {
   "codemirror_mode": {
    "name": "ipython",
    "version": 3
   },
   "file_extension": ".py",
   "mimetype": "text/x-python",
   "name": "python",
   "nbconvert_exporter": "python",
   "pygments_lexer": "ipython3",
   "version": "3.7.13"
  }
 },
 "nbformat": 4,
 "nbformat_minor": 5
}
