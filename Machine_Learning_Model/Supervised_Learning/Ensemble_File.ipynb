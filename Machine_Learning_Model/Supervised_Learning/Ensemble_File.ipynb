{
 "cells": [
  {
   "cell_type": "code",
   "execution_count": 1,
   "metadata": {},
   "outputs": [],
   "source": [
    "import warnings\n",
    "warnings.filterwarnings('ignore')"
   ]
  },
  {
   "cell_type": "code",
   "execution_count": 2,
   "metadata": {},
   "outputs": [],
   "source": [
    "import numpy as np\n",
    "import pandas as pd\n",
    "from pathlib import Path\n",
    "from collections import Counter"
   ]
  },
  {
   "cell_type": "code",
   "execution_count": 3,
   "metadata": {},
   "outputs": [],
   "source": [
    "from sklearn import tree\n",
    "from sklearn.preprocessing import StandardScaler\n",
    "from sklearn.model_selection import train_test_split\n",
    "from sklearn.ensemble import RandomForestClassifier\n",
    "from sklearn.metrics import balanced_accuracy_score\n",
    "from sklearn.metrics import accuracy_score\n",
    "from sklearn.metrics import confusion_matrix\n",
    "from imblearn.metrics import classification_report_imbalanced"
   ]
  },
  {
   "cell_type": "markdown",
   "metadata": {},
   "source": [
    "https://www.childhealthdata.org/docs/default-source/nsch-docs/2020-2021-nsch-content-map_child-and-family-health-measures_cahmi_8-1-22.pdf?sfvrsn=87175c17_2"
   ]
  },
  {
   "cell_type": "markdown",
   "metadata": {},
   "source": [
    "# Read the CSV and Perform Basic Data Cleaning"
   ]
  },
  {
   "cell_type": "code",
   "execution_count": 4,
   "metadata": {},
   "outputs": [],
   "source": [
    "# Include target in column list???  \"HEIGHT\", \"WEIGHT\",\n",
    "# This is based on a subsection of the Survey - C. Health Care Services: Health Care Visits,Height and Weight,....\n",
    "# Developmental Concerns & Screening, Usual Source of Care, Vision Testing, Dental Health Care, Mental Health Care and Other Types of Care, ....\n",
    "# Forgone Health Care, ER Use, Education & Developmetnal Services, Care Coordination.\n",
    "\n",
    "columns = [\n",
    "\"K2Q35A\",\n",
    "\"S4Q01\",\n",
    "\"DOCPRIVATE\",\n",
    "\"K4Q20R\",\n",
    "\"DOCROOM\",\n",
    "\"WGTCONC\",\n",
    "\"OVERWEIGHT\",\n",
    "\"K6Q10\",\n",
    "\"K6Q12\",\n",
    "\"K6Q13A\",\n",
    "\"K6Q13B\",\n",
    "\"K6Q14A\",\n",
    "\"K6Q14B\",\n",
    "\"K4Q01\",\n",
    "\"K4Q02_R\",\n",
    "\"USUALGO\",\n",
    "\"USUALSICK\",\n",
    "\"K4Q31_R\",\n",
    "\"K4Q32X01\",\n",
    "\"K4Q32X02\",\n",
    "\"K4Q32X03\",\n",
    "\"K4Q32X04\",\n",
    "\"K4Q32X05\",\n",
    "\"K4Q30_R\",\n",
    "\"DENTISTVISIT\",\n",
    "\"DENTALSERV1\",\n",
    "\"DENTALSERV2\",\n",
    "\"DENTALSERV3\",\n",
    "\"DENTALSERV4\",\n",
    "\"DENTALSERV5\",\n",
    "\"DENTALSERV6\",\n",
    "\"DENTALSERV7\",\n",
    "\"K4Q22_R\",\n",
    "\"TREATNEED\",\n",
    "\"K4Q23\",\n",
    "\"K4Q24_R\",\n",
    "\"K4Q26\",\n",
    "\"ALTHEALTH\",\n",
    "\"K4Q27\",\n",
    "\"K4Q28X01\",\n",
    "\"K4Q28X02\",\n",
    "\"K4Q28X03\",\n",
    "\"K4Q28X04\",\n",
    "\"K4Q28X05\",\n",
    "\"K4Q28X_EAR\",\n",
    "\"NOTELIG\",\n",
    "\"AVAILABLE\",\n",
    "\"APPOINTMENT\",\n",
    "\"TRANSPORTCC\",\n",
    "\"NOTOPEN\",\n",
    "\"ISSUECOST\",\n",
    "\"C4Q04\",\n",
    "\"HOSPITALER\",\n",
    "\"HOSPITALSTAY\",\n",
    "\"K6Q15\",\n",
    "\"SESPLANYR\",\n",
    "\"SESPLANMO\",\n",
    "\"SESCURRSVC\",\n",
    "\"K4Q36\",\n",
    "\"K4Q37\",\n",
    "\"K4Q38\",\n",
    "]\n",
    "\n",
    "target = [\"K2Q35A\"]"
   ]
  },
  {
   "cell_type": "code",
   "execution_count": 5,
   "metadata": {},
   "outputs": [
    {
     "data": {
      "text/html": [
       "<div>\n",
       "<style scoped>\n",
       "    .dataframe tbody tr th:only-of-type {\n",
       "        vertical-align: middle;\n",
       "    }\n",
       "\n",
       "    .dataframe tbody tr th {\n",
       "        vertical-align: top;\n",
       "    }\n",
       "\n",
       "    .dataframe thead th {\n",
       "        text-align: right;\n",
       "    }\n",
       "</style>\n",
       "<table border=\"1\" class=\"dataframe\">\n",
       "  <thead>\n",
       "    <tr style=\"text-align: right;\">\n",
       "      <th></th>\n",
       "      <th>K2Q35A</th>\n",
       "      <th>S4Q01</th>\n",
       "      <th>DOCPRIVATE</th>\n",
       "      <th>K4Q20R</th>\n",
       "      <th>DOCROOM</th>\n",
       "      <th>WGTCONC</th>\n",
       "      <th>OVERWEIGHT</th>\n",
       "      <th>K6Q10</th>\n",
       "      <th>K6Q12</th>\n",
       "      <th>K6Q13A</th>\n",
       "      <th>...</th>\n",
       "      <th>C4Q04</th>\n",
       "      <th>HOSPITALER</th>\n",
       "      <th>HOSPITALSTAY</th>\n",
       "      <th>K6Q15</th>\n",
       "      <th>SESPLANYR</th>\n",
       "      <th>SESPLANMO</th>\n",
       "      <th>SESCURRSVC</th>\n",
       "      <th>K4Q36</th>\n",
       "      <th>K4Q37</th>\n",
       "      <th>K4Q38</th>\n",
       "    </tr>\n",
       "  </thead>\n",
       "  <tbody>\n",
       "    <tr>\n",
       "      <th>0</th>\n",
       "      <td>2</td>\n",
       "      <td>2</td>\n",
       "      <td>95</td>\n",
       "      <td>95</td>\n",
       "      <td>95</td>\n",
       "      <td>3</td>\n",
       "      <td>2</td>\n",
       "      <td>90</td>\n",
       "      <td>90</td>\n",
       "      <td>90</td>\n",
       "      <td>...</td>\n",
       "      <td>1</td>\n",
       "      <td>1</td>\n",
       "      <td>2</td>\n",
       "      <td>2</td>\n",
       "      <td>95</td>\n",
       "      <td>95</td>\n",
       "      <td>95</td>\n",
       "      <td>2</td>\n",
       "      <td>95</td>\n",
       "      <td>95</td>\n",
       "    </tr>\n",
       "    <tr>\n",
       "      <th>1</th>\n",
       "      <td>2</td>\n",
       "      <td>1</td>\n",
       "      <td>90</td>\n",
       "      <td>1</td>\n",
       "      <td>2</td>\n",
       "      <td>3</td>\n",
       "      <td>2</td>\n",
       "      <td>2</td>\n",
       "      <td>2</td>\n",
       "      <td>95</td>\n",
       "      <td>...</td>\n",
       "      <td>1</td>\n",
       "      <td>1</td>\n",
       "      <td>2</td>\n",
       "      <td>2</td>\n",
       "      <td>95</td>\n",
       "      <td>95</td>\n",
       "      <td>95</td>\n",
       "      <td>2</td>\n",
       "      <td>95</td>\n",
       "      <td>95</td>\n",
       "    </tr>\n",
       "    <tr>\n",
       "      <th>2</th>\n",
       "      <td>2</td>\n",
       "      <td>1</td>\n",
       "      <td>1</td>\n",
       "      <td>2</td>\n",
       "      <td>1</td>\n",
       "      <td>3</td>\n",
       "      <td>2</td>\n",
       "      <td>90</td>\n",
       "      <td>90</td>\n",
       "      <td>90</td>\n",
       "      <td>...</td>\n",
       "      <td>1</td>\n",
       "      <td>1</td>\n",
       "      <td>2</td>\n",
       "      <td>2</td>\n",
       "      <td>95</td>\n",
       "      <td>95</td>\n",
       "      <td>95</td>\n",
       "      <td>2</td>\n",
       "      <td>95</td>\n",
       "      <td>95</td>\n",
       "    </tr>\n",
       "    <tr>\n",
       "      <th>3</th>\n",
       "      <td>2</td>\n",
       "      <td>1</td>\n",
       "      <td>1</td>\n",
       "      <td>2</td>\n",
       "      <td>2</td>\n",
       "      <td>3</td>\n",
       "      <td>2</td>\n",
       "      <td>90</td>\n",
       "      <td>90</td>\n",
       "      <td>90</td>\n",
       "      <td>...</td>\n",
       "      <td>2</td>\n",
       "      <td>1</td>\n",
       "      <td>2</td>\n",
       "      <td>2</td>\n",
       "      <td>95</td>\n",
       "      <td>95</td>\n",
       "      <td>95</td>\n",
       "      <td>2</td>\n",
       "      <td>95</td>\n",
       "      <td>95</td>\n",
       "    </tr>\n",
       "    <tr>\n",
       "      <th>4</th>\n",
       "      <td>2</td>\n",
       "      <td>1</td>\n",
       "      <td>90</td>\n",
       "      <td>2</td>\n",
       "      <td>2</td>\n",
       "      <td>1</td>\n",
       "      <td>2</td>\n",
       "      <td>1</td>\n",
       "      <td>2</td>\n",
       "      <td>95</td>\n",
       "      <td>...</td>\n",
       "      <td>1</td>\n",
       "      <td>1</td>\n",
       "      <td>2</td>\n",
       "      <td>2</td>\n",
       "      <td>95</td>\n",
       "      <td>95</td>\n",
       "      <td>95</td>\n",
       "      <td>2</td>\n",
       "      <td>95</td>\n",
       "      <td>95</td>\n",
       "    </tr>\n",
       "  </tbody>\n",
       "</table>\n",
       "<p>5 rows × 61 columns</p>\n",
       "</div>"
      ],
      "text/plain": [
       "   K2Q35A  S4Q01  DOCPRIVATE  K4Q20R  DOCROOM  WGTCONC  OVERWEIGHT  K6Q10  \\\n",
       "0       2      2          95      95       95        3           2     90   \n",
       "1       2      1          90       1        2        3           2      2   \n",
       "2       2      1           1       2        1        3           2     90   \n",
       "3       2      1           1       2        2        3           2     90   \n",
       "4       2      1          90       2        2        1           2      1   \n",
       "\n",
       "   K6Q12  K6Q13A  ...  C4Q04  HOSPITALER  HOSPITALSTAY  K6Q15  SESPLANYR  \\\n",
       "0     90      90  ...      1           1             2      2         95   \n",
       "1      2      95  ...      1           1             2      2         95   \n",
       "2     90      90  ...      1           1             2      2         95   \n",
       "3     90      90  ...      2           1             2      2         95   \n",
       "4      2      95  ...      1           1             2      2         95   \n",
       "\n",
       "   SESPLANMO  SESCURRSVC  K4Q36  K4Q37  K4Q38  \n",
       "0         95          95      2     95     95  \n",
       "1         95          95      2     95     95  \n",
       "2         95          95      2     95     95  \n",
       "3         95          95      2     95     95  \n",
       "4         95          95      2     95     95  \n",
       "\n",
       "[5 rows x 61 columns]"
      ]
     },
     "execution_count": 5,
     "metadata": {},
     "output_type": "execute_result"
    }
   ],
   "source": [
    "# Load the data 'C:/Users/tligh/Desktop/Sensory_Needs_Occupational_Therapy/Data/2019-2020 NSCH_Topical_CAHMI_DRC_Original.csv'\n",
    "file_path = Path('../../Data/2019-2020 NSCH_Topical_CAHMI_DRC_Original.csv')\n",
    "#file_path = Path('2019-2020 NSCH_Topical_CAHMI_DRC_Original.csv')\n",
    "df = pd.read_csv(file_path)\n",
    "df = df.loc[:, columns].copy()\n",
    "\n",
    "# Drop the null columns where all values are null\n",
    "df = df.dropna(axis='columns', how='all')\n",
    "\n",
    "# Drop the null rows\n",
    "df = df.dropna()\n",
    "\n",
    "# Remove the `Issued` loan status\n",
    "issued_mask = df['K2Q35A'] != 'Issued'\n",
    "df = df.loc[issued_mask]\n",
    "\n",
    "# convert interest rate to numerical\n",
    "#df['int_rate'] = df['int_rate'].str.replace('%', '')\n",
    "#df['int_rate'] = df['int_rate'].astype('float') / 100\n",
    "\n",
    "######\n",
    "# Convert the target column values to mild_severity, moderate_severity, severe_severity\n",
    "# mild_severity, moderate_severity and severe_severity are based on their values\n",
    "# Code = 1 Mild, 2 Moderate, 3 Severe\n",
    "\n",
    "# mild_severity\n",
    "#x = {'K2Q35C': '1'}   \n",
    "#df = df.replace(x)\n",
    "\n",
    "# moderate_severity is\n",
    "#x = {'K2Q35C': '2'}   \n",
    "#df = df.replace(x)\n",
    "\n",
    "# severe_severity\n",
    "#x = {'K2Q35C': '3'}   \n",
    "#df = df.replace(x)\n",
    "\n",
    "#df.reset_index(inplace=True, drop=True)\n",
    "\n",
    "df.head()"
   ]
  },
  {
   "cell_type": "markdown",
   "metadata": {},
   "source": [
    "# Split the Data into Training and Testing"
   ]
  },
  {
   "cell_type": "code",
   "execution_count": 6,
   "metadata": {},
   "outputs": [],
   "source": [
    "# Define the Features Set\n",
    "X = df.copy()\n",
    "X = df.drop(columns=\"K2Q35A\")\n",
    "X = pd.get_dummies(X)"
   ]
  },
  {
   "cell_type": "code",
   "execution_count": 7,
   "metadata": {},
   "outputs": [
    {
     "data": {
      "text/html": [
       "<div>\n",
       "<style scoped>\n",
       "    .dataframe tbody tr th:only-of-type {\n",
       "        vertical-align: middle;\n",
       "    }\n",
       "\n",
       "    .dataframe tbody tr th {\n",
       "        vertical-align: top;\n",
       "    }\n",
       "\n",
       "    .dataframe thead th {\n",
       "        text-align: right;\n",
       "    }\n",
       "</style>\n",
       "<table border=\"1\" class=\"dataframe\">\n",
       "  <thead>\n",
       "    <tr style=\"text-align: right;\">\n",
       "      <th></th>\n",
       "      <th>S4Q01</th>\n",
       "      <th>DOCPRIVATE</th>\n",
       "      <th>K4Q20R</th>\n",
       "      <th>DOCROOM</th>\n",
       "      <th>WGTCONC</th>\n",
       "      <th>OVERWEIGHT</th>\n",
       "      <th>K6Q10</th>\n",
       "      <th>K6Q12</th>\n",
       "      <th>K6Q13A</th>\n",
       "      <th>K6Q13B</th>\n",
       "      <th>...</th>\n",
       "      <th>C4Q04</th>\n",
       "      <th>HOSPITALER</th>\n",
       "      <th>HOSPITALSTAY</th>\n",
       "      <th>K6Q15</th>\n",
       "      <th>SESPLANYR</th>\n",
       "      <th>SESPLANMO</th>\n",
       "      <th>SESCURRSVC</th>\n",
       "      <th>K4Q36</th>\n",
       "      <th>K4Q37</th>\n",
       "      <th>K4Q38</th>\n",
       "    </tr>\n",
       "  </thead>\n",
       "  <tbody>\n",
       "    <tr>\n",
       "      <th>count</th>\n",
       "      <td>72210.000000</td>\n",
       "      <td>72210.000000</td>\n",
       "      <td>72210.000000</td>\n",
       "      <td>72210.000000</td>\n",
       "      <td>72210.000000</td>\n",
       "      <td>72210.000000</td>\n",
       "      <td>72210.000000</td>\n",
       "      <td>72210.000000</td>\n",
       "      <td>72210.000000</td>\n",
       "      <td>72210.000000</td>\n",
       "      <td>...</td>\n",
       "      <td>72210.000000</td>\n",
       "      <td>72210.000000</td>\n",
       "      <td>72210.000000</td>\n",
       "      <td>72210.000000</td>\n",
       "      <td>72210.000000</td>\n",
       "      <td>72210.000000</td>\n",
       "      <td>72210.000000</td>\n",
       "      <td>72210.000000</td>\n",
       "      <td>72210.000000</td>\n",
       "      <td>72210.000000</td>\n",
       "    </tr>\n",
       "    <tr>\n",
       "      <th>mean</th>\n",
       "      <td>1.274380</td>\n",
       "      <td>60.435854</td>\n",
       "      <td>15.184600</td>\n",
       "      <td>15.150796</td>\n",
       "      <td>3.207270</td>\n",
       "      <td>2.311522</td>\n",
       "      <td>65.206218</td>\n",
       "      <td>67.705526</td>\n",
       "      <td>89.564354</td>\n",
       "      <td>89.564437</td>\n",
       "      <td>...</td>\n",
       "      <td>1.732225</td>\n",
       "      <td>1.563232</td>\n",
       "      <td>2.297189</td>\n",
       "      <td>2.291691</td>\n",
       "      <td>81.837723</td>\n",
       "      <td>93.469686</td>\n",
       "      <td>81.033375</td>\n",
       "      <td>2.929179</td>\n",
       "      <td>79.864866</td>\n",
       "      <td>79.190832</td>\n",
       "    </tr>\n",
       "    <tr>\n",
       "      <th>std</th>\n",
       "      <td>3.709259</td>\n",
       "      <td>42.204461</td>\n",
       "      <td>32.141317</td>\n",
       "      <td>32.447697</td>\n",
       "      <td>6.117791</td>\n",
       "      <td>6.070185</td>\n",
       "      <td>39.699576</td>\n",
       "      <td>38.575679</td>\n",
       "      <td>12.717787</td>\n",
       "      <td>12.717211</td>\n",
       "      <td>...</td>\n",
       "      <td>7.184525</td>\n",
       "      <td>6.096515</td>\n",
       "      <td>5.645145</td>\n",
       "      <td>6.552453</td>\n",
       "      <td>31.771912</td>\n",
       "      <td>13.272445</td>\n",
       "      <td>33.394697</td>\n",
       "      <td>10.290459</td>\n",
       "      <td>33.898251</td>\n",
       "      <td>35.100251</td>\n",
       "    </tr>\n",
       "    <tr>\n",
       "      <th>min</th>\n",
       "      <td>1.000000</td>\n",
       "      <td>1.000000</td>\n",
       "      <td>1.000000</td>\n",
       "      <td>1.000000</td>\n",
       "      <td>1.000000</td>\n",
       "      <td>1.000000</td>\n",
       "      <td>1.000000</td>\n",
       "      <td>1.000000</td>\n",
       "      <td>1.000000</td>\n",
       "      <td>1.000000</td>\n",
       "      <td>...</td>\n",
       "      <td>1.000000</td>\n",
       "      <td>1.000000</td>\n",
       "      <td>1.000000</td>\n",
       "      <td>1.000000</td>\n",
       "      <td>0.000000</td>\n",
       "      <td>0.000000</td>\n",
       "      <td>1.000000</td>\n",
       "      <td>1.000000</td>\n",
       "      <td>0.000000</td>\n",
       "      <td>1.000000</td>\n",
       "    </tr>\n",
       "    <tr>\n",
       "      <th>25%</th>\n",
       "      <td>1.000000</td>\n",
       "      <td>2.000000</td>\n",
       "      <td>2.000000</td>\n",
       "      <td>2.000000</td>\n",
       "      <td>3.000000</td>\n",
       "      <td>2.000000</td>\n",
       "      <td>2.000000</td>\n",
       "      <td>2.000000</td>\n",
       "      <td>90.000000</td>\n",
       "      <td>90.000000</td>\n",
       "      <td>...</td>\n",
       "      <td>1.000000</td>\n",
       "      <td>1.000000</td>\n",
       "      <td>2.000000</td>\n",
       "      <td>2.000000</td>\n",
       "      <td>95.000000</td>\n",
       "      <td>95.000000</td>\n",
       "      <td>95.000000</td>\n",
       "      <td>2.000000</td>\n",
       "      <td>95.000000</td>\n",
       "      <td>95.000000</td>\n",
       "    </tr>\n",
       "    <tr>\n",
       "      <th>50%</th>\n",
       "      <td>1.000000</td>\n",
       "      <td>90.000000</td>\n",
       "      <td>2.000000</td>\n",
       "      <td>2.000000</td>\n",
       "      <td>3.000000</td>\n",
       "      <td>2.000000</td>\n",
       "      <td>90.000000</td>\n",
       "      <td>90.000000</td>\n",
       "      <td>90.000000</td>\n",
       "      <td>90.000000</td>\n",
       "      <td>...</td>\n",
       "      <td>1.000000</td>\n",
       "      <td>1.000000</td>\n",
       "      <td>2.000000</td>\n",
       "      <td>2.000000</td>\n",
       "      <td>95.000000</td>\n",
       "      <td>95.000000</td>\n",
       "      <td>95.000000</td>\n",
       "      <td>2.000000</td>\n",
       "      <td>95.000000</td>\n",
       "      <td>95.000000</td>\n",
       "    </tr>\n",
       "    <tr>\n",
       "      <th>75%</th>\n",
       "      <td>1.000000</td>\n",
       "      <td>90.000000</td>\n",
       "      <td>3.000000</td>\n",
       "      <td>3.000000</td>\n",
       "      <td>3.000000</td>\n",
       "      <td>2.000000</td>\n",
       "      <td>90.000000</td>\n",
       "      <td>90.000000</td>\n",
       "      <td>95.000000</td>\n",
       "      <td>95.000000</td>\n",
       "      <td>...</td>\n",
       "      <td>1.000000</td>\n",
       "      <td>1.000000</td>\n",
       "      <td>2.000000</td>\n",
       "      <td>2.000000</td>\n",
       "      <td>95.000000</td>\n",
       "      <td>95.000000</td>\n",
       "      <td>95.000000</td>\n",
       "      <td>2.000000</td>\n",
       "      <td>95.000000</td>\n",
       "      <td>95.000000</td>\n",
       "    </tr>\n",
       "    <tr>\n",
       "      <th>max</th>\n",
       "      <td>99.000000</td>\n",
       "      <td>99.000000</td>\n",
       "      <td>99.000000</td>\n",
       "      <td>99.000000</td>\n",
       "      <td>99.000000</td>\n",
       "      <td>99.000000</td>\n",
       "      <td>99.000000</td>\n",
       "      <td>99.000000</td>\n",
       "      <td>99.000000</td>\n",
       "      <td>99.000000</td>\n",
       "      <td>...</td>\n",
       "      <td>99.000000</td>\n",
       "      <td>99.000000</td>\n",
       "      <td>99.000000</td>\n",
       "      <td>99.000000</td>\n",
       "      <td>99.000000</td>\n",
       "      <td>99.000000</td>\n",
       "      <td>99.000000</td>\n",
       "      <td>99.000000</td>\n",
       "      <td>99.000000</td>\n",
       "      <td>99.000000</td>\n",
       "    </tr>\n",
       "  </tbody>\n",
       "</table>\n",
       "<p>8 rows × 60 columns</p>\n",
       "</div>"
      ],
      "text/plain": [
       "              S4Q01    DOCPRIVATE        K4Q20R       DOCROOM       WGTCONC  \\\n",
       "count  72210.000000  72210.000000  72210.000000  72210.000000  72210.000000   \n",
       "mean       1.274380     60.435854     15.184600     15.150796      3.207270   \n",
       "std        3.709259     42.204461     32.141317     32.447697      6.117791   \n",
       "min        1.000000      1.000000      1.000000      1.000000      1.000000   \n",
       "25%        1.000000      2.000000      2.000000      2.000000      3.000000   \n",
       "50%        1.000000     90.000000      2.000000      2.000000      3.000000   \n",
       "75%        1.000000     90.000000      3.000000      3.000000      3.000000   \n",
       "max       99.000000     99.000000     99.000000     99.000000     99.000000   \n",
       "\n",
       "         OVERWEIGHT         K6Q10         K6Q12        K6Q13A        K6Q13B  \\\n",
       "count  72210.000000  72210.000000  72210.000000  72210.000000  72210.000000   \n",
       "mean       2.311522     65.206218     67.705526     89.564354     89.564437   \n",
       "std        6.070185     39.699576     38.575679     12.717787     12.717211   \n",
       "min        1.000000      1.000000      1.000000      1.000000      1.000000   \n",
       "25%        2.000000      2.000000      2.000000     90.000000     90.000000   \n",
       "50%        2.000000     90.000000     90.000000     90.000000     90.000000   \n",
       "75%        2.000000     90.000000     90.000000     95.000000     95.000000   \n",
       "max       99.000000     99.000000     99.000000     99.000000     99.000000   \n",
       "\n",
       "       ...         C4Q04    HOSPITALER  HOSPITALSTAY         K6Q15  \\\n",
       "count  ...  72210.000000  72210.000000  72210.000000  72210.000000   \n",
       "mean   ...      1.732225      1.563232      2.297189      2.291691   \n",
       "std    ...      7.184525      6.096515      5.645145      6.552453   \n",
       "min    ...      1.000000      1.000000      1.000000      1.000000   \n",
       "25%    ...      1.000000      1.000000      2.000000      2.000000   \n",
       "50%    ...      1.000000      1.000000      2.000000      2.000000   \n",
       "75%    ...      1.000000      1.000000      2.000000      2.000000   \n",
       "max    ...     99.000000     99.000000     99.000000     99.000000   \n",
       "\n",
       "          SESPLANYR     SESPLANMO    SESCURRSVC         K4Q36         K4Q37  \\\n",
       "count  72210.000000  72210.000000  72210.000000  72210.000000  72210.000000   \n",
       "mean      81.837723     93.469686     81.033375      2.929179     79.864866   \n",
       "std       31.771912     13.272445     33.394697     10.290459     33.898251   \n",
       "min        0.000000      0.000000      1.000000      1.000000      0.000000   \n",
       "25%       95.000000     95.000000     95.000000      2.000000     95.000000   \n",
       "50%       95.000000     95.000000     95.000000      2.000000     95.000000   \n",
       "75%       95.000000     95.000000     95.000000      2.000000     95.000000   \n",
       "max       99.000000     99.000000     99.000000     99.000000     99.000000   \n",
       "\n",
       "              K4Q38  \n",
       "count  72210.000000  \n",
       "mean      79.190832  \n",
       "std       35.100251  \n",
       "min        1.000000  \n",
       "25%       95.000000  \n",
       "50%       95.000000  \n",
       "75%       95.000000  \n",
       "max       99.000000  \n",
       "\n",
       "[8 rows x 60 columns]"
      ]
     },
     "execution_count": 7,
     "metadata": {},
     "output_type": "execute_result"
    }
   ],
   "source": [
    "X.describe()"
   ]
  },
  {
   "cell_type": "code",
   "execution_count": 8,
   "metadata": {},
   "outputs": [],
   "source": [
    "# Create our target\n",
    "y = df[target]"
   ]
  },
  {
   "cell_type": "code",
   "execution_count": 9,
   "metadata": {},
   "outputs": [
    {
     "data": {
      "text/plain": [
       "K2Q35A\n",
       "2         69784\n",
       "1          2136\n",
       "99          290\n",
       "dtype: int64"
      ]
     },
     "execution_count": 9,
     "metadata": {},
     "output_type": "execute_result"
    }
   ],
   "source": [
    "# Check the balance of our target values\n",
    "y.value_counts()"
   ]
  },
  {
   "cell_type": "code",
   "execution_count": 10,
   "metadata": {},
   "outputs": [],
   "source": [
    "from sklearn.model_selection import train_test_split\n",
    "X_train, X_test, y_train, y_test = train_test_split(X, y, random_state=1)"
   ]
  },
  {
   "cell_type": "markdown",
   "metadata": {},
   "source": [
    "The next three set of cells came from 17.7.2 Predict Loan Application Approval"
   ]
  },
  {
   "cell_type": "code",
   "execution_count": 11,
   "metadata": {},
   "outputs": [
    {
     "name": "stdout",
     "output_type": "stream",
     "text": [
      "(54157, 60)\n",
      "(18053, 60)\n",
      "(54157, 1)\n",
      "(18053, 1)\n"
     ]
    }
   ],
   "source": [
    "# Determine the shape of our training and testing sets.\n",
    "print(X_train.shape)\n",
    "print(X_test.shape)\n",
    "print(y_train.shape)\n",
    "print(y_test.shape)"
   ]
  },
  {
   "cell_type": "code",
   "execution_count": 12,
   "metadata": {},
   "outputs": [],
   "source": [
    "# Splitting into Train and Test sets into an 80/20 split.- Can choose this option\n",
    "# X_train2, X_test2, y_train2, y_test2 = train_test_split(X, y, random_state=78, train_size=0.80)"
   ]
  },
  {
   "cell_type": "code",
   "execution_count": 13,
   "metadata": {},
   "outputs": [],
   "source": [
    "# Creating a StandardScaler instance.\n",
    "scaler = StandardScaler()\n",
    "# Fitting the Standard Scaler with the training data.\n",
    "X_scaler = scaler.fit(X_train)\n",
    "\n",
    "# Scaling the data.\n",
    "X_train_scaled = X_scaler.transform(X_train)\n",
    "X_test_scaled = X_scaler.transform(X_test)"
   ]
  },
  {
   "cell_type": "markdown",
   "metadata": {},
   "source": [
    "17.7.3 Make Predictions and Evaluate Results"
   ]
  },
  {
   "cell_type": "code",
   "execution_count": 14,
   "metadata": {},
   "outputs": [],
   "source": [
    "# Creating the decision tree classifier instance.\n",
    "model = tree.DecisionTreeClassifier()\n",
    "# Fitting the model.\n",
    "model = model.fit(X_train_scaled, y_train)"
   ]
  },
  {
   "cell_type": "code",
   "execution_count": 15,
   "metadata": {},
   "outputs": [],
   "source": [
    "# Making predictions using the testing data.\n",
    "predictions = model.predict(X_test_scaled)"
   ]
  },
  {
   "cell_type": "code",
   "execution_count": 16,
   "metadata": {},
   "outputs": [
    {
     "data": {
      "text/plain": [
       "array([[  165,   352,     2],\n",
       "       [  487, 16871,   104],\n",
       "       [    6,    65,     1]], dtype=int64)"
      ]
     },
     "execution_count": 16,
     "metadata": {},
     "output_type": "execute_result"
    }
   ],
   "source": [
    "# Evaluate the Model\n",
    "# Calculating the confusion matrix\n",
    "cm = confusion_matrix(y_test, predictions)\n",
    "\n",
    "# Create a DataFrame from the confusion matrix.\n",
    "#cm_df = pd.DataFrame(\n",
    "    #cm, index=([\"Actual 0\", \"Actual 1\"], columns=([\"Predicted 0\", \"Predicted 1\"]))\n",
    "\n",
    "cm"
   ]
  },
  {
   "cell_type": "code",
   "execution_count": 17,
   "metadata": {},
   "outputs": [
    {
     "data": {
      "text/plain": [
       "0.9437212651636847"
      ]
     },
     "execution_count": 17,
     "metadata": {},
     "output_type": "execute_result"
    }
   ],
   "source": [
    "# Calculating the accuracy score.\n",
    "acc_score = accuracy_score(y_test, predictions)\n",
    "acc_score"
   ]
  },
  {
   "cell_type": "code",
   "execution_count": 18,
   "metadata": {},
   "outputs": [
    {
     "data": {
      "text/plain": [
       "0.43265434787827256"
      ]
     },
     "execution_count": 18,
     "metadata": {},
     "output_type": "execute_result"
    }
   ],
   "source": [
    "#Calculating the balanced accuracy scored\n",
    "bal_acc_score = balanced_accuracy_score(y_test, predictions)\n",
    "bal_acc_score "
   ]
  },
  {
   "cell_type": "code",
   "execution_count": 19,
   "metadata": {},
   "outputs": [
    {
     "name": "stdout",
     "output_type": "stream",
     "text": [
      "Confusion Matrix\n"
     ]
    },
    {
     "data": {
      "text/plain": [
       "array([[  165,   352,     2],\n",
       "       [  487, 16871,   104],\n",
       "       [    6,    65,     1]], dtype=int64)"
      ]
     },
     "metadata": {},
     "output_type": "display_data"
    },
    {
     "name": "stdout",
     "output_type": "stream",
     "text": [
      "Accuracy Score : 0.9437212651636847\n",
      "Classification Report\n",
      "                   pre       rec       spe        f1       geo       iba       sup\n",
      "\n",
      "          1       0.25      0.32      0.97      0.28      0.56      0.29       519\n",
      "          2       0.98      0.97      0.29      0.97      0.53      0.30     17462\n",
      "         99       0.01      0.01      0.99      0.01      0.12      0.01        72\n",
      "\n",
      "avg / total       0.95      0.94      0.32      0.95      0.53      0.30     18053\n",
      "\n"
     ]
    }
   ],
   "source": [
    "# Displaying results\n",
    "print(\"Confusion Matrix\")\n",
    "display(cm)\n",
    "print(f\"Accuracy Score : {acc_score}\")\n",
    "print(\"Classification Report\")\n",
    "print(classification_report_imbalanced(y_test, predictions))"
   ]
  },
  {
   "cell_type": "markdown",
   "metadata": {},
   "source": [
    "# Ensemble Learners 17.8.1\n",
    "\n",
    "In this section, you will compare two ensemble algorithms to determine which algorithm results in the best performance. You will train a Balanced Random Forest Classifier and an Easy Ensemble AdaBoost classifier . For each algorithm, be sure to complete the folliowing steps:\n",
    "\n",
    "1. Train the model using the training data. \n",
    "2. Calculate the balanced accuracy score from sklearn.metrics.\n",
    "3. Print the confusion matrix from sklearn.metrics.\n",
    "4. Generate a classication report using the `imbalanced_classification_report` from imbalanced-learn.\n",
    "5. For the Balanced Random Forest Classifier onely, print the feature importance sorted in descending order (most important feature to least important) along with the feature score\n",
    "\n",
    "Note: Use a random state of 1 for each algorithm to ensure consistency between tests"
   ]
  },
  {
   "cell_type": "markdown",
   "metadata": {},
   "source": [
    "### Balanced Random Forest Classifier"
   ]
  },
  {
   "cell_type": "code",
   "execution_count": 20,
   "metadata": {},
   "outputs": [
    {
     "name": "stdout",
     "output_type": "stream",
     "text": [
      "Requirement already satisfied: imbalanced-learn in c:\\users\\tligh\\anaconda3\\envs\\mlenv\\lib\\site-packages (0.9.0)\n",
      "Collecting imbalanced-learn\n",
      "  Using cached imbalanced_learn-0.9.1-py3-none-any.whl (199 kB)\n",
      "Requirement already satisfied: threadpoolctl>=2.0.0 in c:\\users\\tligh\\anaconda3\\envs\\mlenv\\lib\\site-packages (from imbalanced-learn) (2.2.0)\n",
      "Requirement already satisfied: joblib>=0.11 in c:\\users\\tligh\\anaconda3\\envs\\mlenv\\lib\\site-packages (from imbalanced-learn) (1.1.0)\n",
      "Requirement already satisfied: numpy>=1.14.6 in c:\\users\\tligh\\anaconda3\\envs\\mlenv\\lib\\site-packages (from imbalanced-learn) (1.21.5)\n",
      "Requirement already satisfied: scipy>=1.1.0 in c:\\users\\tligh\\anaconda3\\envs\\mlenv\\lib\\site-packages (from imbalanced-learn) (1.7.3)\n",
      "Requirement already satisfied: scikit-learn>=1.0.1 in c:\\users\\tligh\\anaconda3\\envs\\mlenv\\lib\\site-packages (from imbalanced-learn) (1.0.2)\n",
      "Note: you may need to restart the kernel to use updated packages.\n"
     ]
    }
   ],
   "source": [
    "pip install -U imbalanced-learn"
   ]
  },
  {
   "cell_type": "code",
   "execution_count": 21,
   "metadata": {},
   "outputs": [
    {
     "data": {
      "text/plain": [
       "BalancedRandomForestClassifier(random_state=1)"
      ]
     },
     "execution_count": 21,
     "metadata": {},
     "output_type": "execute_result"
    }
   ],
   "source": [
    "# Resample the training data with the BalancedRandomForestClassifier\n",
    "# YOUR CODE HERE\n",
    "from imblearn.ensemble import BalancedRandomForestClassifier\n",
    "brf = BalancedRandomForestClassifier(n_estimators=100, random_state=1)\n",
    "brf.fit(X_train, y_train)"
   ]
  },
  {
   "cell_type": "code",
   "execution_count": 22,
   "metadata": {},
   "outputs": [
    {
     "data": {
      "text/plain": [
       "0.6199755932084695"
      ]
     },
     "execution_count": 22,
     "metadata": {},
     "output_type": "execute_result"
    }
   ],
   "source": [
    "# Calculated the balanced accuracy score\n",
    "from sklearn.metrics import balanced_accuracy_score\n",
    "y_pred = brf.predict(X_test)\n",
    "balanced_accuracy_score(y_test, y_pred)"
   ]
  },
  {
   "cell_type": "code",
   "execution_count": 23,
   "metadata": {},
   "outputs": [
    {
     "data": {
      "text/plain": [
       "array([[ 462,   23,   34],\n",
       "       [2326, 9658, 5478],\n",
       "       [  16,   26,   30]], dtype=int64)"
      ]
     },
     "execution_count": 23,
     "metadata": {},
     "output_type": "execute_result"
    }
   ],
   "source": [
    "# Display the confusion matrix\n",
    "from sklearn.metrics import confusion_matrix\n",
    "confusion_matrix(y_test, y_pred)"
   ]
  },
  {
   "cell_type": "code",
   "execution_count": 24,
   "metadata": {},
   "outputs": [
    {
     "name": "stdout",
     "output_type": "stream",
     "text": [
      "                   pre       rec       spe        f1       geo       iba       sup\n",
      "\n",
      "          1       0.16      0.89      0.87      0.28      0.88      0.77       519\n",
      "          2       0.99      0.55      0.92      0.71      0.71      0.49     17462\n",
      "         99       0.01      0.42      0.69      0.01      0.54      0.28        72\n",
      "\n",
      "avg / total       0.97      0.56      0.91      0.70      0.72      0.50     18053\n",
      "\n"
     ]
    }
   ],
   "source": [
    "# Print the imbalanced classification report\n",
    "from imblearn.metrics import classification_report_imbalanced\n",
    "print(classification_report_imbalanced(y_test, y_pred))"
   ]
  },
  {
   "cell_type": "code",
   "execution_count": 25,
   "metadata": {},
   "outputs": [
    {
     "data": {
      "text/html": [
       "<div>\n",
       "<style scoped>\n",
       "    .dataframe tbody tr th:only-of-type {\n",
       "        vertical-align: middle;\n",
       "    }\n",
       "\n",
       "    .dataframe tbody tr th {\n",
       "        vertical-align: top;\n",
       "    }\n",
       "\n",
       "    .dataframe thead th {\n",
       "        text-align: right;\n",
       "    }\n",
       "</style>\n",
       "<table border=\"1\" class=\"dataframe\">\n",
       "  <thead>\n",
       "    <tr style=\"text-align: right;\">\n",
       "      <th></th>\n",
       "      <th>feature</th>\n",
       "      <th>importance</th>\n",
       "    </tr>\n",
       "  </thead>\n",
       "  <tbody>\n",
       "    <tr>\n",
       "      <th>0</th>\n",
       "      <td>K4Q37</td>\n",
       "      <td>0.060135</td>\n",
       "    </tr>\n",
       "    <tr>\n",
       "      <th>1</th>\n",
       "      <td>K4Q36</td>\n",
       "      <td>0.057587</td>\n",
       "    </tr>\n",
       "    <tr>\n",
       "      <th>2</th>\n",
       "      <td>K4Q38</td>\n",
       "      <td>0.049408</td>\n",
       "    </tr>\n",
       "    <tr>\n",
       "      <th>3</th>\n",
       "      <td>SESCURRSVC</td>\n",
       "      <td>0.046499</td>\n",
       "    </tr>\n",
       "    <tr>\n",
       "      <th>4</th>\n",
       "      <td>SESPLANYR</td>\n",
       "      <td>0.044732</td>\n",
       "    </tr>\n",
       "  </tbody>\n",
       "</table>\n",
       "</div>"
      ],
      "text/plain": [
       "      feature  importance\n",
       "0       K4Q37    0.060135\n",
       "1       K4Q36    0.057587\n",
       "2       K4Q38    0.049408\n",
       "3  SESCURRSVC    0.046499\n",
       "4   SESPLANYR    0.044732"
      ]
     },
     "execution_count": 25,
     "metadata": {},
     "output_type": "execute_result"
    }
   ],
   "source": [
    "# List the features sorted in descending order by feature importance\n",
    "# YOUR CODE HERE\n",
    "importances = brf.feature_importances_\n",
    "columns = X.columns\n",
    "\n",
    "df = pd.DataFrame({\"feature\":columns, \"importance\":importances}).sort_values(\"importance\", ascending = False).reset_index(drop=True)\n",
    "df.head()"
   ]
  },
  {
   "cell_type": "markdown",
   "metadata": {},
   "source": [
    "### Easy Ensemble AdaBoost Classifier"
   ]
  },
  {
   "cell_type": "code",
   "execution_count": 26,
   "metadata": {},
   "outputs": [
    {
     "data": {
      "text/plain": [
       "EasyEnsembleClassifier(n_estimators=100, random_state=1)"
      ]
     },
     "execution_count": 26,
     "metadata": {},
     "output_type": "execute_result"
    }
   ],
   "source": [
    "# Train the EasyEnsembleClassifier\n",
    "# YOUR CODE HERE\n",
    "from imblearn.ensemble import EasyEnsembleClassifier\n",
    "eec = EasyEnsembleClassifier(n_estimators=100, random_state=1)\n",
    "eec.fit(X_train, y_train)"
   ]
  },
  {
   "cell_type": "code",
   "execution_count": 27,
   "metadata": {},
   "outputs": [
    {
     "data": {
      "text/plain": [
       "0.6512012621540793"
      ]
     },
     "execution_count": 27,
     "metadata": {},
     "output_type": "execute_result"
    }
   ],
   "source": [
    "# Calculated the balanced accuracy score\n",
    "y_pred = eec.predict(X_test)\n",
    "balanced_accuracy_score(y_test, y_pred)"
   ]
  },
  {
   "cell_type": "code",
   "execution_count": 28,
   "metadata": {},
   "outputs": [
    {
     "data": {
      "text/plain": [
       "array([[ 434,   29,   56],\n",
       "       [2036, 9083, 6343],\n",
       "       [  12,   17,   43]], dtype=int64)"
      ]
     },
     "execution_count": 28,
     "metadata": {},
     "output_type": "execute_result"
    }
   ],
   "source": [
    "# Display the confusion matrix\n",
    "confusion_matrix(y_test, y_pred)"
   ]
  },
  {
   "cell_type": "code",
   "execution_count": 29,
   "metadata": {},
   "outputs": [
    {
     "name": "stdout",
     "output_type": "stream",
     "text": [
      "                   pre       rec       spe        f1       geo       iba       sup\n",
      "\n",
      "          1       0.17      0.84      0.88      0.29      0.86      0.74       519\n",
      "          2       0.99      0.52      0.92      0.68      0.69      0.46     17462\n",
      "         99       0.01      0.60      0.64      0.01      0.62      0.38        72\n",
      "\n",
      "avg / total       0.97      0.53      0.92      0.67      0.70      0.47     18053\n",
      "\n"
     ]
    }
   ],
   "source": [
    "# Print the imbalanced classification report\n",
    "from imblearn.metrics import classification_report_imbalanced\n",
    "print(classification_report_imbalanced(y_test, y_pred))"
   ]
  },
  {
   "cell_type": "code",
   "execution_count": null,
   "metadata": {},
   "outputs": [],
   "source": []
  }
 ],
 "metadata": {
  "kernelspec": {
   "display_name": "mlenv",
   "language": "python",
   "name": "mlenv"
  },
  "language_info": {
   "codemirror_mode": {
    "name": "ipython",
    "version": 3
   },
   "file_extension": ".py",
   "mimetype": "text/x-python",
   "name": "python",
   "nbconvert_exporter": "python",
   "pygments_lexer": "ipython3",
   "version": "3.7.13"
  }
 },
 "nbformat": 4,
 "nbformat_minor": 2
}
